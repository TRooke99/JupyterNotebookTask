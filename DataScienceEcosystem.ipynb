{
 "cells": [
  {
   "cell_type": "markdown",
   "id": "e36c9a94-3fa2-4888-9d1d-ec7a91c339cf",
   "metadata": {},
   "source": [
    "# Data Science Tools and Ecosystem"
   ]
  },
  {
   "cell_type": "markdown",
   "id": "7462a811-b7a2-4d61-b532-f583bdea7f55",
   "metadata": {},
   "source": [
    "In this notebook, Data Science Tools and Ecosystem are summarized.\n",
    "\n",
    "**Objectives:**\n",
    "* List popular languages for Data Science\n",
    "* List common used libraires\n",
    "* Demonstrate how simple arithmetic expressions can be made in Python"
   ]
  },
  {
   "cell_type": "markdown",
   "id": "8989beda-b0c0-490a-ba9b-a7d1f883d76f",
   "metadata": {},
   "source": [
    "Some of the popular languages that Data Scientists use are:\n",
    "1. Python\n",
    "2. R\n",
    "3. C++"
   ]
  },
  {
   "cell_type": "markdown",
   "id": "86263483-2501-4ea4-87f4-345c4ac35c0d",
   "metadata": {},
   "source": [
    "Some of the commonly used libraries used by Data Scientists include:\n",
    "1. TensorFlow\n",
    "2. Pandas\n",
    "3. NumPy"
   ]
  },
  {
   "cell_type": "markdown",
   "id": "35f77b89-7c95-42bf-bcc7-fe99ba66ed8f",
   "metadata": {},
   "source": [
    "| Data Science Tools |\n",
    "| ------------------ |\n",
    "|      RStudio       |\n",
    "|   Apache Spark     |\n",
    "|  Apache Hadoop     |\n"
   ]
  },
  {
   "cell_type": "markdown",
   "id": "cb98a1c3-4b32-45cb-9395-c6b0fd55cfc9",
   "metadata": {},
   "source": [
    "Below are a few examples of evaluating arithmetic expressions in Python\n"
   ]
  },
  {
   "cell_type": "markdown",
   "id": "0b592cd1-faad-4b88-94d5-625052df8021",
   "metadata": {},
   "source": [
    "This a simple arithmetic expression to mutiply then add integers"
   ]
  },
  {
   "cell_type": "code",
   "execution_count": 2,
   "id": "4ad76b15-e655-49d8-8856-dde4ba258b71",
   "metadata": {},
   "outputs": [
    {
     "data": {
      "text/plain": [
       "17"
      ]
     },
     "execution_count": 2,
     "metadata": {},
     "output_type": "execute_result"
    }
   ],
   "source": [
    "(3*4)+5"
   ]
  },
  {
   "cell_type": "markdown",
   "id": "e544598c-5788-4ba4-91b7-e96de8c1f5a4",
   "metadata": {},
   "source": [
    "This will convert 200 minutes to hours by diving by 60"
   ]
  },
  {
   "cell_type": "code",
   "execution_count": 3,
   "id": "43d1f776-3695-4628-b40c-74b7bce5ea41",
   "metadata": {},
   "outputs": [
    {
     "data": {
      "text/plain": [
       "3.3333333333333335"
      ]
     },
     "execution_count": 3,
     "metadata": {},
     "output_type": "execute_result"
    }
   ],
   "source": [
    "200/60"
   ]
  },
  {
   "cell_type": "markdown",
   "id": "47147389-eeae-4e0e-8ae2-21ba0a3eb060",
   "metadata": {},
   "source": [
    "## Author\n",
    "Taylor Rooke"
   ]
  },
  {
   "cell_type": "code",
   "execution_count": null,
   "id": "5886ab5d-d748-4bcf-90ae-66ad17edfbb7",
   "metadata": {},
   "outputs": [],
   "source": []
  }
 ],
 "metadata": {
  "kernelspec": {
   "display_name": "Python 3 (ipykernel)",
   "language": "python",
   "name": "python3"
  },
  "language_info": {
   "codemirror_mode": {
    "name": "ipython",
    "version": 3
   },
   "file_extension": ".py",
   "mimetype": "text/x-python",
   "name": "python",
   "nbconvert_exporter": "python",
   "pygments_lexer": "ipython3",
   "version": "3.10.9"
  }
 },
 "nbformat": 4,
 "nbformat_minor": 5
}
